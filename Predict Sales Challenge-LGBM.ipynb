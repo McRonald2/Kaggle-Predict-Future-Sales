{
 "cells": [
  {
   "cell_type": "code",
   "execution_count": 23,
   "metadata": {
    "colab": {
     "base_uri": "https://localhost:8080/",
     "height": 272
    },
    "colab_type": "code",
    "executionInfo": {
     "elapsed": 5268,
     "status": "ok",
     "timestamp": 1586960146166,
     "user": {
      "displayName": "רון טרנופולסקי",
      "photoUrl": "",
      "userId": "08150616153879810275"
     },
     "user_tz": -180
    },
    "id": "PPrLaUnNnPBQ",
    "outputId": "c23fb84c-c654-47f4-8b10-103b84919abd"
   },
   "outputs": [
    {
     "name": "stdout",
     "output_type": "stream",
     "text": [
      "Requirement already satisfied: catboost in /usr/local/lib/python3.6/dist-packages (0.22)\n",
      "Requirement already satisfied: graphviz in /usr/local/lib/python3.6/dist-packages (from catboost) (0.10.1)\n",
      "Requirement already satisfied: pandas>=0.24.0 in /usr/local/lib/python3.6/dist-packages (from catboost) (1.0.3)\n",
      "Requirement already satisfied: numpy>=1.16.0 in /usr/local/lib/python3.6/dist-packages (from catboost) (1.18.2)\n",
      "Requirement already satisfied: scipy in /usr/local/lib/python3.6/dist-packages (from catboost) (1.4.1)\n",
      "Requirement already satisfied: plotly in /usr/local/lib/python3.6/dist-packages (from catboost) (4.4.1)\n",
      "Requirement already satisfied: six in /usr/local/lib/python3.6/dist-packages (from catboost) (1.12.0)\n",
      "Requirement already satisfied: matplotlib in /usr/local/lib/python3.6/dist-packages (from catboost) (3.2.1)\n",
      "Requirement already satisfied: python-dateutil>=2.6.1 in /usr/local/lib/python3.6/dist-packages (from pandas>=0.24.0->catboost) (2.8.1)\n",
      "Requirement already satisfied: pytz>=2017.2 in /usr/local/lib/python3.6/dist-packages (from pandas>=0.24.0->catboost) (2018.9)\n",
      "Requirement already satisfied: retrying>=1.3.3 in /usr/local/lib/python3.6/dist-packages (from plotly->catboost) (1.3.3)\n",
      "Requirement already satisfied: kiwisolver>=1.0.1 in /usr/local/lib/python3.6/dist-packages (from matplotlib->catboost) (1.2.0)\n",
      "Requirement already satisfied: cycler>=0.10 in /usr/local/lib/python3.6/dist-packages (from matplotlib->catboost) (0.10.0)\n",
      "Requirement already satisfied: pyparsing!=2.0.4,!=2.1.2,!=2.1.6,>=2.0.1 in /usr/local/lib/python3.6/dist-packages (from matplotlib->catboost) (2.4.7)\n"
     ]
    }
   ],
   "source": [
    "!pip install catboost\n",
    "# !pip install tabulate\n",
    "# !pip install tqdm\n",
    "# !pip install xgboost"
   ]
  },
  {
   "cell_type": "code",
   "execution_count": 0,
   "metadata": {
    "colab": {},
    "colab_type": "code",
    "id": "PtVvzvEtnC5q"
   },
   "outputs": [],
   "source": [
    "import pandas as pd\n",
    "import time\n",
    "import calendar\n",
    "import numpy as np\n",
    "import matplotlib.pyplot as plt\n",
    "import seaborn as sns\n",
    "import itertools\n",
    "from sklearn.model_selection import train_test_split\n",
    "from sklearn.preprocessing import StandardScaler,MinMaxScaler, LabelEncoder\n",
    "from sklearn.metrics import mean_absolute_error, mean_squared_error\n",
    "import re\n",
    "from tqdm import tqdm\n",
    "import pickle\n",
    "# import hunga_bunga as hb\n",
    "\n",
    "from keras.models import Sequential, Model\n",
    "from keras.layers import Dense, Input\n",
    "from keras.layers import LSTM, LeakyReLU\n",
    "\n",
    "from sklearn.ensemble import RandomForestRegressor, ExtraTreesRegressor, GradientBoostingRegressor, AdaBoostRegressor, StackingRegressor, VotingRegressor\n",
    "from sklearn.neighbors import KNeighborsRegressor\n",
    "from xgboost import XGBRegressor\n",
    "import lightgbm as lgbm\n",
    "from lightgbm import LGBMRegressor, LGBMClassifier\n",
    "from catboost import CatBoostRegressor\n",
    "\n",
    "# from helper_functions import *\n",
    "\n",
    "import warnings\n",
    "warnings.filterwarnings(\"ignore\")\n",
    "\n",
    "sns.set()\n",
    "pd.set_option(\"display.precision\", 1)\n",
    "%matplotlib inline"
   ]
  },
  {
   "cell_type": "code",
   "execution_count": 25,
   "metadata": {
    "colab": {
     "base_uri": "https://localhost:8080/",
     "height": 34
    },
    "colab_type": "code",
    "executionInfo": {
     "elapsed": 4975,
     "status": "ok",
     "timestamp": 1586960146168,
     "user": {
      "displayName": "רון טרנופולסקי",
      "photoUrl": "",
      "userId": "08150616153879810275"
     },
     "user_tz": -180
    },
    "id": "3tTwUmTynjGw",
    "outputId": "70a89e58-fcf5-483b-b187-251b100fa10f"
   },
   "outputs": [
    {
     "name": "stdout",
     "output_type": "stream",
     "text": [
      "Drive already mounted at /content/gdrive; to attempt to forcibly remount, call drive.mount(\"/content/gdrive\", force_remount=True).\n"
     ]
    }
   ],
   "source": [
    "from google.colab import drive \n",
    "drive.mount('/content/gdrive')"
   ]
  },
  {
   "cell_type": "code",
   "execution_count": 0,
   "metadata": {
    "colab": {},
    "colab_type": "code",
    "id": "EI8x01LRnC5v"
   },
   "outputs": [],
   "source": [
    "train_df = pd.read_csv('/content/gdrive/My Drive/Colab Notebooks/Predict Future Sales/data/sales_train_v2.csv')\n",
    "test_df = pd.read_csv('/content/gdrive/My Drive/Colab Notebooks/Predict Future Sales/data/test.csv')\n",
    "items_df = pd.read_csv('/content/gdrive/My Drive/Colab Notebooks/Predict Future Sales/data/items.csv')\n",
    "items_cat_df = pd.read_csv('/content/gdrive/My Drive/Colab Notebooks/Predict Future Sales/data/item_categories.csv')\n",
    "shops_df = pd.read_csv('/content/gdrive/My Drive/Colab Notebooks/Predict Future Sales/data/shops.csv')"
   ]
  },
  {
   "cell_type": "markdown",
   "metadata": {
    "colab_type": "text",
    "id": "xxoQ15DBNJlE"
   },
   "source": [
    "shops_df has some duplicated shop names with a little bit of mispell.<br>We'll fix it on the train & test data frames."
   ]
  },
  {
   "cell_type": "code",
   "execution_count": 142,
   "metadata": {
    "colab": {
     "base_uri": "https://localhost:8080/",
     "height": 225
    },
    "colab_type": "code",
    "executionInfo": {
     "elapsed": 3205,
     "status": "ok",
     "timestamp": 1586964783566,
     "user": {
      "displayName": "רון טרנופולסקי",
      "photoUrl": "",
      "userId": "08150616153879810275"
     },
     "user_tz": -180
    },
    "id": "3WY0EPyDL6Ce",
    "outputId": "d3582d72-bd6f-47a6-c8b2-355ef4357fde"
   },
   "outputs": [
    {
     "data": {
      "text/html": [
       "<div>\n",
       "<style scoped>\n",
       "    .dataframe tbody tr th:only-of-type {\n",
       "        vertical-align: middle;\n",
       "    }\n",
       "\n",
       "    .dataframe tbody tr th {\n",
       "        vertical-align: top;\n",
       "    }\n",
       "\n",
       "    .dataframe thead th {\n",
       "        text-align: right;\n",
       "    }\n",
       "</style>\n",
       "<table border=\"1\" class=\"dataframe\">\n",
       "  <thead>\n",
       "    <tr style=\"text-align: right;\">\n",
       "      <th></th>\n",
       "      <th>shop_name</th>\n",
       "      <th>shop_id</th>\n",
       "    </tr>\n",
       "  </thead>\n",
       "  <tbody>\n",
       "    <tr>\n",
       "      <th>0</th>\n",
       "      <td>!Якутск Орджоникидзе, 56 фран</td>\n",
       "      <td>0</td>\n",
       "    </tr>\n",
       "    <tr>\n",
       "      <th>1</th>\n",
       "      <td>!Якутск ТЦ \"Центральный\" фран</td>\n",
       "      <td>1</td>\n",
       "    </tr>\n",
       "    <tr>\n",
       "      <th>10</th>\n",
       "      <td>Жуковский ул. Чкалова 39м?</td>\n",
       "      <td>10</td>\n",
       "    </tr>\n",
       "    <tr>\n",
       "      <th>11</th>\n",
       "      <td>Жуковский ул. Чкалова 39м²</td>\n",
       "      <td>11</td>\n",
       "    </tr>\n",
       "    <tr>\n",
       "      <th>57</th>\n",
       "      <td>Якутск Орджоникидзе, 56</td>\n",
       "      <td>57</td>\n",
       "    </tr>\n",
       "    <tr>\n",
       "      <th>58</th>\n",
       "      <td>Якутск ТЦ \"Центральный\"</td>\n",
       "      <td>58</td>\n",
       "    </tr>\n",
       "  </tbody>\n",
       "</table>\n",
       "</div>"
      ],
      "text/plain": [
       "                        shop_name  shop_id\n",
       "0   !Якутск Орджоникидзе, 56 фран        0\n",
       "1   !Якутск ТЦ \"Центральный\" фран        1\n",
       "10     Жуковский ул. Чкалова 39м?       10\n",
       "11     Жуковский ул. Чкалова 39м²       11\n",
       "57        Якутск Орджоникидзе, 56       57\n",
       "58        Якутск ТЦ \"Центральный\"       58"
      ]
     },
     "execution_count": 142,
     "metadata": {
      "tags": []
     },
     "output_type": "execute_result"
    }
   ],
   "source": [
    "shops_df[shops_df['shop_id'].isin([0, 1, 10, 11, 57, 58])]"
   ]
  },
  {
   "cell_type": "code",
   "execution_count": 0,
   "metadata": {
    "colab": {},
    "colab_type": "code",
    "id": "4elfWmkuMiPQ"
   },
   "outputs": [],
   "source": [
    "# 0 vs 57\n",
    "train_df.loc[train_df.shop_id == 0, 'shop_id'] = 57\n",
    "test_df.loc[test_df.shop_id == 0, 'shop_id'] = 57\n",
    "# 1 vs 58\n",
    "train_df.loc[train_df.shop_id == 1, 'shop_id'] = 58\n",
    "test_df.loc[test_df.shop_id == 1, 'shop_id'] = 58\n",
    "# 10 vs 11\n",
    "train_df.loc[train_df.shop_id == 10, 'shop_id'] = 11\n",
    "test_df.loc[test_df.shop_id == 10, 'shop_id'] = 11"
   ]
  },
  {
   "cell_type": "markdown",
   "metadata": {
    "colab_type": "text",
    "id": "78-Xpz5zOKEb"
   },
   "source": [
    "We can extract shop city from the shop name and sub category from category name.<br>\n",
    "Then, Label encode it."
   ]
  },
  {
   "cell_type": "code",
   "execution_count": 0,
   "metadata": {
    "colab": {},
    "colab_type": "code",
    "id": "rYWsj4P1L4bB"
   },
   "outputs": [],
   "source": [
    "shops_df['shop_city'] = shops_df['shop_name'].apply(lambda x: x.split(' ', 1)[0].strip(\"!\"))\n",
    "items_cat_df['sub_cat'] = items_cat_df['item_category_name'].apply(lambda x: x.split(' ', 1)[0])\n",
    "le = LabelEncoder()\n",
    "shops_df['shop_city'] = le.fit_transform(shops_df['shop_city'])\n",
    "items_cat_df['sub_cat'] = le.fit_transform(items_cat_df['sub_cat'])"
   ]
  },
  {
   "cell_type": "markdown",
   "metadata": {
    "colab_type": "text",
    "id": "oU1y7uTFnC59"
   },
   "source": [
    "There are some items, that exist in the test set but not in the train set.<br>\n",
    "We will address this issue later on, when we will need to attach data to these<br> \n",
    "items, such as price and count of sold items."
   ]
  },
  {
   "cell_type": "code",
   "execution_count": 145,
   "metadata": {
    "colab": {
     "base_uri": "https://localhost:8080/",
     "height": 34
    },
    "colab_type": "code",
    "executionInfo": {
     "elapsed": 2505,
     "status": "ok",
     "timestamp": 1586964783568,
     "user": {
      "displayName": "רון טרנופולסקי",
      "photoUrl": "",
      "userId": "08150616153879810275"
     },
     "user_tz": -180
    },
    "id": "ElAIO2RcnC5-",
    "outputId": "a4ccc02c-b707-4b48-fa15-154e7ac42a96"
   },
   "outputs": [
    {
     "name": "stdout",
     "output_type": "stream",
     "text": [
      "Number of \"new\" items 363\n"
     ]
    }
   ],
   "source": [
    "diff = list(set(test_df['item_id']).difference(set(train_df['item_id'])))\n",
    "print('Number of \"new\" items', len(diff))"
   ]
  },
  {
   "cell_type": "markdown",
   "metadata": {
    "colab_type": "text",
    "id": "0y5yb1-PW6Rl"
   },
   "source": [
    "The test data is a set of all combinations of items and shops of all times.<br>\n",
    "The train data contains only items that are sold, but not items which didn't sell.<br>\n",
    "Thus the destribution of the train and the test data is different so we'll have to add to the train data all information about items that did not sell that month."
   ]
  },
  {
   "cell_type": "code",
   "execution_count": 146,
   "metadata": {
    "colab": {
     "base_uri": "https://localhost:8080/",
     "height": 588
    },
    "colab_type": "code",
    "executionInfo": {
     "elapsed": 18775,
     "status": "ok",
     "timestamp": 1586964800184,
     "user": {
      "displayName": "רון טרנופולסקי",
      "photoUrl": "",
      "userId": "08150616153879810275"
     },
     "user_tz": -180
    },
    "id": "cQbG9RZceKFl",
    "outputId": "20ce62e3-2bd4-44ab-9514-016f812fd5f4"
   },
   "outputs": [
    {
     "name": "stdout",
     "output_type": "stream",
     "text": [
      "unique items: 8115, unique shops: 45, num of combinations: 365175\n",
      "unique items: 8168, unique shops: 46, num of combinations: 375728\n",
      "unique items: 8302, unique shops: 46, num of combinations: 381892\n",
      "unique items: 8145, unique shops: 46, num of combinations: 374670\n",
      "unique items: 8339, unique shops: 45, num of combinations: 375255\n",
      "unique items: 8478, unique shops: 46, num of combinations: 389988\n",
      "unique items: 8405, unique shops: 46, num of combinations: 386630\n",
      "unique items: 8031, unique shops: 45, num of combinations: 361395\n",
      "unique items: 7876, unique shops: 45, num of combinations: 354420\n",
      "unique items: 8039, unique shops: 46, num of combinations: 369794\n",
      "unique items: 8089, unique shops: 45, num of combinations: 364005\n",
      "unique items: 8474, unique shops: 46, num of combinations: 389804\n",
      "unique items: 7551, unique shops: 46, num of combinations: 347346\n",
      "unique items: 7134, unique shops: 46, num of combinations: 328164\n",
      "unique items: 7142, unique shops: 48, num of combinations: 342816\n",
      "unique items: 6774, unique shops: 49, num of combinations: 331926\n",
      "unique items: 6685, unique shops: 49, num of combinations: 327565\n",
      "unique items: 6681, unique shops: 49, num of combinations: 327369\n",
      "unique items: 6611, unique shops: 50, num of combinations: 330550\n",
      "unique items: 6363, unique shops: 51, num of combinations: 324513\n",
      "unique items: 6071, unique shops: 50, num of combinations: 303550\n",
      "unique items: 6334, unique shops: 52, num of combinations: 329368\n",
      "unique items: 6322, unique shops: 50, num of combinations: 316100\n",
      "unique items: 6605, unique shops: 50, num of combinations: 330250\n",
      "unique items: 6139, unique shops: 50, num of combinations: 306950\n",
      "unique items: 6053, unique shops: 47, num of combinations: 284491\n",
      "unique items: 6082, unique shops: 46, num of combinations: 279772\n",
      "unique items: 5476, unique shops: 47, num of combinations: 257372\n",
      "unique items: 5283, unique shops: 44, num of combinations: 232452\n",
      "unique items: 5216, unique shops: 43, num of combinations: 224288\n",
      "unique items: 5323, unique shops: 43, num of combinations: 228889\n",
      "unique items: 5108, unique shops: 42, num of combinations: 214536\n",
      "unique items: 5085, unique shops: 43, num of combinations: 218655\n",
      "unique items: 5413, unique shops: 44, num of combinations: 238172\n"
     ]
    }
   ],
   "source": [
    "grouped_df = []\n",
    "cols = ['date_block_num','shop_id','item_id']\n",
    "for i in range(34):\n",
    "    current_info = train_df[train_df.date_block_num == i]\n",
    "    item = set(current_info['item_id'])\n",
    "    shop = set(current_info['shop_id'])\n",
    "    grouped_df.append(np.array(list(itertools.product([i], shop, item)), dtype='int16'))\n",
    "    print('unique items: {0}, unique shops: {1}, num of combinations: {2}'.format(current_info['item_id'].nunique(),\n",
    "                                                                             current_info['shop_id'].nunique(),\n",
    "                                                                             (np.array(list(itertools.product([i], shop, item)), dtype='int16')).shape[0]))\n",
    "\n",
    "grouped_df = pd.DataFrame(np.vstack(grouped_df), columns=cols)\n",
    "grouped_df['date_block_num'] = grouped_df['date_block_num'].astype(np.int8)\n",
    "grouped_df['shop_id'] = grouped_df['shop_id'].astype(np.int8)\n",
    "grouped_df['item_id'] = grouped_df['item_id'].astype(np.int16)\n",
    "grouped_df.sort_values(cols,inplace=True)"
   ]
  },
  {
   "cell_type": "markdown",
   "metadata": {
    "colab_type": "text",
    "id": "J8g4CLN3nC6X"
   },
   "source": [
    "## Aggregate the data to Months\n",
    "Concat train and test."
   ]
  },
  {
   "cell_type": "code",
   "execution_count": 0,
   "metadata": {
    "colab": {},
    "colab_type": "code",
    "id": "f23hKyUonC6Y"
   },
   "outputs": [],
   "source": [
    "def turn_df_monthly(df):\n",
    "    '''\n",
    "    A func. to aggregate the data to whole months since it is organized orignally by days.\n",
    "    '''\n",
    "    \n",
    "    agg_dict = {'item_cnt_day' : 'sum', 'item_price' : 'mean'}\n",
    "    df = df.groupby(['date_block_num', 'shop_id', 'item_id']).agg(agg_dict).reset_index()\n",
    "    df.rename(columns={'item_cnt_day': 'item_cnt_month'}, inplace=True)\n",
    "    df['item_cnt_month'] = df['item_cnt_month'].astype(np.float32)\n",
    "    \n",
    "    return df"
   ]
  },
  {
   "cell_type": "code",
   "execution_count": 0,
   "metadata": {
    "colab": {},
    "colab_type": "code",
    "id": "9TaLj55lnss5"
   },
   "outputs": [],
   "source": [
    "train_df = turn_df_monthly(train_df)"
   ]
  },
  {
   "cell_type": "markdown",
   "metadata": {
    "colab_type": "text",
    "id": "aiDd8Sh6S1yF"
   },
   "source": [
    "There are some big differences between same items at the same shop in `item_price`. <br>I've decided to change all items with a price that is too low and update it with the mean price.\n",
    "<br>Fix `item_price` feature:"
   ]
  },
  {
   "cell_type": "code",
   "execution_count": 0,
   "metadata": {
    "colab": {},
    "colab_type": "code",
    "id": "-bQQ5nJ2WDRK"
   },
   "outputs": [],
   "source": [
    "train_df.item_price.clip(0, 3650, inplace=True) # Based on outliers analysis.\n",
    "\n",
    "train_df['max_price'] = train_df.groupby(['item_id','shop_id'])['item_price'].transform('max')\n",
    "# train_df['median_price'] = train_df.groupby(['item_id','shop_id'])['item_price'].transform('median')\n",
    "train_df['mean_price'] = train_df.groupby(['item_id','shop_id'])['item_price'].transform('mean')\n",
    "\n",
    "train_df['price_range'] = train_df['max_price'] - train_df['item_price']\n",
    "\n",
    "# I've decided to impute mean price in places where the `item_price` is too low to be true.\n",
    "train_df.loc[(train_df['price_range']>=1000)&(train_df['item_price']<=50),'item_price'] = train_df.loc[(train_df['price_range']>=1000)&(train_df['item_price']<=50),'mean_price']\n",
    "train_df.drop(['max_price', 'price_range', 'mean_price'], axis=1, inplace=True)"
   ]
  },
  {
   "cell_type": "code",
   "execution_count": 0,
   "metadata": {
    "colab": {},
    "colab_type": "code",
    "id": "Y-jW0z4QC4xs"
   },
   "outputs": [],
   "source": [
    "grouped_df = grouped_df.merge(train_df, on=['date_block_num', 'shop_id', 'item_id'], how='left')\n",
    "grouped_df['ID'] = -1\n",
    "\n",
    "test_df['date_block_num'] = 34\n",
    "test_df['item_price'] = 0\n",
    "test_df['item_cnt_month'] = 0\n",
    "\n",
    "# Concat train and test.\n",
    "grouped_df = pd.concat([grouped_df, test_df], axis=0, ignore_index=True)"
   ]
  },
  {
   "cell_type": "markdown",
   "metadata": {
    "colab_type": "text",
    "id": "I0t6Fo0f0Xew"
   },
   "source": [
    "Add all extra features from `shop_df`, `item_cat_df`, and `item_df`."
   ]
  },
  {
   "cell_type": "code",
   "execution_count": 0,
   "metadata": {
    "colab": {},
    "colab_type": "code",
    "id": "Ub91y6MjrAkR"
   },
   "outputs": [],
   "source": [
    "grouped_df = grouped_df.merge(shops_df[['shop_id', 'shop_city']], on=['shop_id'], how='left')\n",
    "grouped_df = grouped_df.merge(items_df[['item_id', 'item_category_id']], on=['item_id'], how='left')\n",
    "grouped_df = grouped_df.merge(items_cat_df[['item_category_id', 'sub_cat']], on=['item_category_id'], how='left')"
   ]
  },
  {
   "cell_type": "markdown",
   "metadata": {
    "colab_type": "text",
    "id": "jTyAW_Ip0wAS"
   },
   "source": [
    "Add `year` and `month` feature:"
   ]
  },
  {
   "cell_type": "code",
   "execution_count": 0,
   "metadata": {
    "colab": {},
    "colab_type": "code",
    "id": "3osD4Cyl23qO"
   },
   "outputs": [],
   "source": [
    "grouped_df['year'] = (grouped_df['date_block_num'] / 12).astype(np.int8)\n",
    "grouped_df['month'] = (grouped_df['date_block_num'] % 12).astype(np.int8)"
   ]
  },
  {
   "cell_type": "markdown",
   "metadata": {
    "colab_type": "text",
    "id": "EDUS5kC94LYL"
   },
   "source": [
    "Taking care of NaNs in `item_cnt_month` and `item_price` cols:"
   ]
  },
  {
   "cell_type": "code",
   "execution_count": 0,
   "metadata": {
    "colab": {},
    "colab_type": "code",
    "id": "-0oGO_m84U7V"
   },
   "outputs": [],
   "source": [
    "grouped_df['item_cnt_month'].fillna(0, inplace=True)\n",
    "# As suggested by out outliers EDA and alot of the competition participants, we need to clip our target to (0,20)\n",
    "# It makes a big difference when submitting.\n",
    "grouped_df['item_cnt_month'].clip(0, 20, inplace=True)"
   ]
  },
  {
   "cell_type": "code",
   "execution_count": 0,
   "metadata": {
    "colab": {},
    "colab_type": "code",
    "id": "cyet6WIG1Rt0"
   },
   "outputs": [],
   "source": [
    "# downcasting all float64 type features - save processing and training time.\n",
    "for f in list(grouped_df.columns):\n",
    "  if f in ['shop_id', 'date_block_num', 'item_category_id', 'year', 'month','shop_city','sub_cat']:\n",
    "    grouped_df[f] = grouped_df[f].astype(np.int8)\n",
    "  elif f in ['item_id']:\n",
    "    grouped_df[f] = grouped_df[f].astype(np.int16)\n",
    "  elif f in ['ID']:\n",
    "    grouped_df[f] = grouped_df[f].astype(np.int32)\n",
    "  else:\n",
    "    grouped_df[f] = grouped_df[f].astype(np.float32)"
   ]
  },
  {
   "cell_type": "code",
   "execution_count": 156,
   "metadata": {
    "colab": {
     "base_uri": "https://localhost:8080/",
     "height": 218
    },
    "colab_type": "code",
    "executionInfo": {
     "elapsed": 26007,
     "status": "ok",
     "timestamp": 1586964810820,
     "user": {
      "displayName": "רון טרנופולסקי",
      "photoUrl": "",
      "userId": "08150616153879810275"
     },
     "user_tz": -180
    },
    "id": "Hd6_iDLF0vQR",
    "outputId": "11f37efb-22f5-423a-e7fa-e65908d44428"
   },
   "outputs": [
    {
     "data": {
      "text/plain": [
       "date_block_num         int8\n",
       "shop_id                int8\n",
       "item_id               int16\n",
       "item_cnt_month      float32\n",
       "item_price          float32\n",
       "ID                    int32\n",
       "shop_city              int8\n",
       "item_category_id       int8\n",
       "sub_cat                int8\n",
       "year                   int8\n",
       "month                  int8\n",
       "dtype: object"
      ]
     },
     "execution_count": 156,
     "metadata": {
      "tags": []
     },
     "output_type": "execute_result"
    }
   ],
   "source": [
    "grouped_df.dtypes"
   ]
  },
  {
   "cell_type": "markdown",
   "metadata": {
    "colab_type": "text",
    "id": "YzizavUYtETf"
   },
   "source": [
    "-------------------------------------------------------------------------------"
   ]
  },
  {
   "cell_type": "markdown",
   "metadata": {
    "colab_type": "text",
    "id": "HTehLB7gnC6O"
   },
   "source": [
    "## Quick EDA"
   ]
  },
  {
   "cell_type": "markdown",
   "metadata": {
    "colab_type": "text",
    "id": "x2Wy85tLnC6P"
   },
   "source": [
    "So as we can see, we have some negative values at cols `item_price` and `item_cnt_day`"
   ]
  },
  {
   "cell_type": "code",
   "execution_count": 1,
   "metadata": {
    "colab": {
     "base_uri": "https://localhost:8080/",
     "height": 50
    },
    "colab_type": "code",
    "executionInfo": {
     "elapsed": 29631,
     "status": "ok",
     "timestamp": 1586789308315,
     "user": {
      "displayName": "רון טרנופולסקי",
      "photoUrl": "",
      "userId": "08150616153879810275"
     },
     "user_tz": -180
    },
    "id": "3UT9_pt3nC6Q",
    "outputId": "3ba2355c-7f33-4744-8b11-572c9807dc9e"
   },
   "outputs": [],
   "source": [
    "# # Get rid of not not logical data.\n",
    "# # For example sold items count that is negative.\n",
    "print(train_df['item_price'][train_df['item_price']<0].count())\n",
    "print(train_df['item_cnt_month'][train_df['item_cnt_month']<0].count())"
   ]
  },
  {
   "cell_type": "code",
   "execution_count": 0,
   "metadata": {
    "colab": {},
    "colab_type": "code",
    "id": "V7BaM8SLnC6S"
   },
   "outputs": [],
   "source": [
    "train_df['item_cnt_month'].clip(lower=0, inplace=True)\n",
    "train_df['item_price'].clip(lower=0, inplace=True)"
   ]
  },
  {
   "cell_type": "code",
   "execution_count": 2,
   "metadata": {
    "colab": {
     "base_uri": "https://localhost:8080/",
     "height": 218
    },
    "colab_type": "code",
    "executionInfo": {
     "elapsed": 966,
     "status": "ok",
     "timestamp": 1586771544608,
     "user": {
      "displayName": "רון טרנופולסקי",
      "photoUrl": "",
      "userId": "08150616153879810275"
     },
     "user_tz": -180
    },
    "id": "6-rXRKpWUyte",
    "outputId": "7b0e0f15-6009-4a4f-f483-25cd248a12f5"
   },
   "outputs": [],
   "source": [
    "# Get rid of duplicates\n",
    "subset = ['date','date_block_num','shop_id','item_id']\n",
    "print(train_df.duplicated(subset=subset).value_counts())\n",
    "train_df.drop_duplicates(subset=subset, inplace=True)"
   ]
  },
  {
   "cell_type": "markdown",
   "metadata": {
    "colab_type": "text",
    "id": "Sd17nPr5nC6c"
   },
   "source": [
    "## Dealing with outliers<br>\n",
    "There are multiple ways to detect outliers.<br>\n",
    "ploting a box plot shows remarkable outliers in `item_cnt_day` and in `item_price`.<br>"
   ]
  },
  {
   "cell_type": "code",
   "execution_count": 0,
   "metadata": {
    "colab": {
     "base_uri": "https://localhost:8080/",
     "height": 254
    },
    "colab_type": "code",
    "executionInfo": {
     "elapsed": 1219,
     "status": "ok",
     "timestamp": 1586163182586,
     "user": {
      "displayName": "רון טרנופולסקי",
      "photoUrl": "",
      "userId": "08150616153879810275"
     },
     "user_tz": -180
    },
    "id": "m2lXQ2N9nC6f",
    "outputId": "578f7db7-d12c-4dcf-eb4a-d17a383f178c"
   },
   "outputs": [
    {
     "data": {
      "text/html": [
       "<div>\n",
       "<style scoped>\n",
       "    .dataframe tbody tr th:only-of-type {\n",
       "        vertical-align: middle;\n",
       "    }\n",
       "\n",
       "    .dataframe tbody tr th {\n",
       "        vertical-align: top;\n",
       "    }\n",
       "\n",
       "    .dataframe thead th {\n",
       "        text-align: right;\n",
       "    }\n",
       "</style>\n",
       "<table border=\"1\" class=\"dataframe\">\n",
       "  <thead>\n",
       "    <tr style=\"text-align: right;\">\n",
       "      <th></th>\n",
       "      <th>year</th>\n",
       "      <th>date_block_num</th>\n",
       "      <th>shop_id</th>\n",
       "      <th>item_category_id</th>\n",
       "      <th>item_id</th>\n",
       "      <th>month</th>\n",
       "      <th>item_cnt_day</th>\n",
       "      <th>item_price</th>\n",
       "      <th>mean_price</th>\n",
       "      <th>median_price</th>\n",
       "      <th>ID</th>\n",
       "    </tr>\n",
       "  </thead>\n",
       "  <tbody>\n",
       "    <tr>\n",
       "      <th>1581820</th>\n",
       "      <td>2015.0</td>\n",
       "      <td>33</td>\n",
       "      <td>12</td>\n",
       "      <td>9</td>\n",
       "      <td>11373</td>\n",
       "      <td>10</td>\n",
       "      <td>2253.0</td>\n",
       "      <td>401.4</td>\n",
       "      <td>364.8</td>\n",
       "      <td>281.6</td>\n",
       "      <td>-1</td>\n",
       "    </tr>\n",
       "    <tr>\n",
       "      <th>1552390</th>\n",
       "      <td>2015.0</td>\n",
       "      <td>32</td>\n",
       "      <td>12</td>\n",
       "      <td>80</td>\n",
       "      <td>9248</td>\n",
       "      <td>9</td>\n",
       "      <td>1644.0</td>\n",
       "      <td>1508.3</td>\n",
       "      <td>1410.7</td>\n",
       "      <td>1500.0</td>\n",
       "      <td>-1</td>\n",
       "    </tr>\n",
       "    <tr>\n",
       "      <th>1574074</th>\n",
       "      <td>2015.0</td>\n",
       "      <td>32</td>\n",
       "      <td>55</td>\n",
       "      <td>8</td>\n",
       "      <td>9249</td>\n",
       "      <td>9</td>\n",
       "      <td>1644.0</td>\n",
       "      <td>1506.9</td>\n",
       "      <td>1408.2</td>\n",
       "      <td>1500.0</td>\n",
       "      <td>-1</td>\n",
       "    </tr>\n",
       "    <tr>\n",
       "      <th>657978</th>\n",
       "      <td>2013.0</td>\n",
       "      <td>11</td>\n",
       "      <td>31</td>\n",
       "      <td>71</td>\n",
       "      <td>20949</td>\n",
       "      <td>12</td>\n",
       "      <td>1305.0</td>\n",
       "      <td>5.0</td>\n",
       "      <td>5.0</td>\n",
       "      <td>5.0</td>\n",
       "      <td>-1</td>\n",
       "    </tr>\n",
       "    <tr>\n",
       "      <th>1412903</th>\n",
       "      <td>2015.0</td>\n",
       "      <td>27</td>\n",
       "      <td>55</td>\n",
       "      <td>31</td>\n",
       "      <td>3730</td>\n",
       "      <td>4</td>\n",
       "      <td>1242.0</td>\n",
       "      <td>1700.0</td>\n",
       "      <td>1700.0</td>\n",
       "      <td>1700.0</td>\n",
       "      <td>-1</td>\n",
       "    </tr>\n",
       "    <tr>\n",
       "      <th>1226866</th>\n",
       "      <td>2014.0</td>\n",
       "      <td>23</td>\n",
       "      <td>31</td>\n",
       "      <td>71</td>\n",
       "      <td>20949</td>\n",
       "      <td>12</td>\n",
       "      <td>1209.0</td>\n",
       "      <td>5.0</td>\n",
       "      <td>5.0</td>\n",
       "      <td>5.0</td>\n",
       "      <td>-1</td>\n",
       "    </tr>\n",
       "    <tr>\n",
       "      <th>1296969</th>\n",
       "      <td>2015.0</td>\n",
       "      <td>24</td>\n",
       "      <td>55</td>\n",
       "      <td>31</td>\n",
       "      <td>5917</td>\n",
       "      <td>1</td>\n",
       "      <td>1127.0</td>\n",
       "      <td>45.0</td>\n",
       "      <td>96.5</td>\n",
       "      <td>59.0</td>\n",
       "      <td>-1</td>\n",
       "    </tr>\n",
       "  </tbody>\n",
       "</table>\n",
       "</div>"
      ],
      "text/plain": [
       "           year  date_block_num  shop_id  ...  mean_price  median_price  ID\n",
       "1581820  2015.0              33       12  ...       364.8         281.6  -1\n",
       "1552390  2015.0              32       12  ...      1410.7        1500.0  -1\n",
       "1574074  2015.0              32       55  ...      1408.2        1500.0  -1\n",
       "657978   2013.0              11       31  ...         5.0           5.0  -1\n",
       "1412903  2015.0              27       55  ...      1700.0        1700.0  -1\n",
       "1226866  2014.0              23       31  ...         5.0           5.0  -1\n",
       "1296969  2015.0              24       55  ...        96.5          59.0  -1\n",
       "\n",
       "[7 rows x 11 columns]"
      ]
     },
     "execution_count": 25,
     "metadata": {
      "tags": []
     },
     "output_type": "execute_result"
    }
   ],
   "source": [
    "train_df.nlargest(7, 'item_cnt_day')"
   ]
  },
  {
   "cell_type": "code",
   "execution_count": 0,
   "metadata": {
    "colab": {
     "base_uri": "https://localhost:8080/",
     "height": 302
    },
    "colab_type": "code",
    "executionInfo": {
     "elapsed": 2154,
     "status": "ok",
     "timestamp": 1586163186780,
     "user": {
      "displayName": "רון טרנופולסקי",
      "photoUrl": "",
      "userId": "08150616153879810275"
     },
     "user_tz": -180
    },
    "id": "a8c0RqiinC6j",
    "outputId": "1443273f-0cba-457c-e02b-7b10d852b19e"
   },
   "outputs": [
    {
     "data": {
      "text/plain": [
       "<matplotlib.axes._subplots.AxesSubplot at 0x7f229126b470>"
      ]
     },
     "execution_count": 26,
     "metadata": {
      "tags": []
     },
     "output_type": "execute_result"
    },
    {
     "data": {
      "image/png": "[encoded data removed]",
      "text/plain": [
       "<Figure size 432x288 with 2 Axes>"
      ]
     },
     "metadata": {
      "tags": []
     },
     "output_type": "display_data"
    }
   ],
   "source": [
    "fig, axes = plt.subplots(nrows=2, ncols=1, sharey=True)\n",
    "axes[1].set(xlim=(-20, 50))\n",
    "sns.boxplot(x=train_df['item_cnt_day'], ax=axes[0])\n",
    "# Higher resolution to see the boxplot\n",
    "sns.boxplot(x=train_df['item_cnt_day'], ax=axes[1])"
   ]
  },
  {
   "cell_type": "code",
   "execution_count": 0,
   "metadata": {
    "colab": {},
    "colab_type": "code",
    "id": "SFAPgb4UnC6l",
    "outputId": "f2ff6296-38f3-4021-ef45-8b5a301c92f0"
   },
   "outputs": [
    {
     "data": {
      "text/plain": [
       "<matplotlib.axes._subplots.AxesSubplot at 0x222252eb390>"
      ]
     },
     "execution_count": 309,
     "metadata": {
      "tags": []
     },
     "output_type": "execute_result"
    },
    {
     "data": {
      "image/png": "[encoded data removed]",
      "text/plain": [
       "<matplotlib.figure.Figure at 0x2222530b828>"
      ]
     },
     "metadata": {
      "tags": []
     },
     "output_type": "display_data"
    }
   ],
   "source": [
    "fig, axes = plt.subplots(nrows=2, ncols=1, sharey=True)\n",
    "axes[1].set(xlim=(-500, 2300))\n",
    "sns.boxplot(x=train_df['item_price'], ax=axes[0])\n",
    "# Higher resolution to see the boxplot\n",
    "sns.boxplot(x=train_df['item_price'], ax=axes[1])"
   ]
  },
  {
   "cell_type": "markdown",
   "metadata": {
    "colab_type": "text",
    "id": "f9hcnnGynC6n"
   },
   "source": [
    "<b>Just a thought</b>, maybe remove outliers by computing <b>z-score</b>:"
   ]
  },
  {
   "cell_type": "markdown",
   "metadata": {
    "colab_type": "text",
    "id": "i5QCAxPznC6o"
   },
   "source": [
    "We chose to clip the `item_cnt_month` feature between (0, 20)<br>"
   ]
  },
  {
   "cell_type": "code",
   "execution_count": 0,
   "metadata": {
    "colab": {},
    "colab_type": "code",
    "id": "adsB7K1lnC6o",
    "outputId": "ad7a2f0f-7d4b-4881-f35d-d7aa4ba59ff3"
   },
   "outputs": [
    {
     "data": {
      "text/html": [
       "<div>\n",
       "<style scoped>\n",
       "    .dataframe tbody tr th:only-of-type {\n",
       "        vertical-align: middle;\n",
       "    }\n",
       "\n",
       "    .dataframe tbody tr th {\n",
       "        vertical-align: top;\n",
       "    }\n",
       "\n",
       "    .dataframe thead th {\n",
       "        text-align: right;\n",
       "    }\n",
       "</style>\n",
       "<table border=\"1\" class=\"dataframe\">\n",
       "  <thead>\n",
       "    <tr style=\"text-align: right;\">\n",
       "      <th></th>\n",
       "      <th>item_cnt_day</th>\n",
       "      <th>item_cnt_day_zscore</th>\n",
       "    </tr>\n",
       "  </thead>\n",
       "  <tbody>\n",
       "    <tr>\n",
       "      <th>16503</th>\n",
       "      <td>26.0</td>\n",
       "      <td>2.9</td>\n",
       "    </tr>\n",
       "    <tr>\n",
       "      <th>20004</th>\n",
       "      <td>26.0</td>\n",
       "      <td>2.9</td>\n",
       "    </tr>\n",
       "    <tr>\n",
       "      <th>23237</th>\n",
       "      <td>26.0</td>\n",
       "      <td>2.9</td>\n",
       "    </tr>\n",
       "    <tr>\n",
       "      <th>23498</th>\n",
       "      <td>26.0</td>\n",
       "      <td>2.9</td>\n",
       "    </tr>\n",
       "    <tr>\n",
       "      <th>24655</th>\n",
       "      <td>26.0</td>\n",
       "      <td>2.9</td>\n",
       "    </tr>\n",
       "    <tr>\n",
       "      <th>24800</th>\n",
       "      <td>26.0</td>\n",
       "      <td>2.9</td>\n",
       "    </tr>\n",
       "    <tr>\n",
       "      <th>27583</th>\n",
       "      <td>26.0</td>\n",
       "      <td>2.9</td>\n",
       "    </tr>\n",
       "    <tr>\n",
       "      <th>35822</th>\n",
       "      <td>26.0</td>\n",
       "      <td>2.9</td>\n",
       "    </tr>\n",
       "    <tr>\n",
       "      <th>35904</th>\n",
       "      <td>26.0</td>\n",
       "      <td>2.9</td>\n",
       "    </tr>\n",
       "    <tr>\n",
       "      <th>40301</th>\n",
       "      <td>26.0</td>\n",
       "      <td>2.9</td>\n",
       "    </tr>\n",
       "  </tbody>\n",
       "</table>\n",
       "</div>"
      ],
      "text/plain": [
       "       item_cnt_day  item_cnt_day_zscore\n",
       "16503          26.0                  2.9\n",
       "20004          26.0                  2.9\n",
       "23237          26.0                  2.9\n",
       "23498          26.0                  2.9\n",
       "24655          26.0                  2.9\n",
       "24800          26.0                  2.9\n",
       "27583          26.0                  2.9\n",
       "35822          26.0                  2.9\n",
       "35904          26.0                  2.9\n",
       "40301          26.0                  2.9"
      ]
     },
     "execution_count": 302,
     "metadata": {
      "tags": []
     },
     "output_type": "execute_result"
    }
   ],
   "source": [
    "z = np.abs(stats.zscore(train_df['item_cnt_day']))\n",
    "train_df['item_cnt_day_zscore'] = z\n",
    "threshold = 3\n",
    "train_df[train_df['item_cnt_day_zscore'] < threshold][['item_cnt_day','item_cnt_day_zscore']].nlargest(5, 'item_cnt_day')"
   ]
  },
  {
   "cell_type": "code",
   "execution_count": 0,
   "metadata": {
    "colab": {},
    "colab_type": "code",
    "id": "cq1rzOt6nC6q",
    "outputId": "638476a6-6eb5-48f5-bdf9-737356e06544"
   },
   "outputs": [
    {
     "data": {
      "text/html": [
       "<div>\n",
       "<style scoped>\n",
       "    .dataframe tbody tr th:only-of-type {\n",
       "        vertical-align: middle;\n",
       "    }\n",
       "\n",
       "    .dataframe tbody tr th {\n",
       "        vertical-align: top;\n",
       "    }\n",
       "\n",
       "    .dataframe thead th {\n",
       "        text-align: right;\n",
       "    }\n",
       "</style>\n",
       "<table border=\"1\" class=\"dataframe\">\n",
       "  <thead>\n",
       "    <tr style=\"text-align: right;\">\n",
       "      <th></th>\n",
       "      <th>item_price</th>\n",
       "      <th>item_price_zscore</th>\n",
       "    </tr>\n",
       "  </thead>\n",
       "  <tbody>\n",
       "    <tr>\n",
       "      <th>1353839</th>\n",
       "      <td>3650.0</td>\n",
       "      <td>2.0</td>\n",
       "    </tr>\n",
       "    <tr>\n",
       "      <th>1361055</th>\n",
       "      <td>3650.0</td>\n",
       "      <td>2.0</td>\n",
       "    </tr>\n",
       "    <tr>\n",
       "      <th>7942</th>\n",
       "      <td>3649.0</td>\n",
       "      <td>2.0</td>\n",
       "    </tr>\n",
       "    <tr>\n",
       "      <th>420095</th>\n",
       "      <td>3649.0</td>\n",
       "      <td>2.0</td>\n",
       "    </tr>\n",
       "    <tr>\n",
       "      <th>699021</th>\n",
       "      <td>3649.0</td>\n",
       "      <td>2.0</td>\n",
       "    </tr>\n",
       "    <tr>\n",
       "      <th>920906</th>\n",
       "      <td>3649.0</td>\n",
       "      <td>2.0</td>\n",
       "    </tr>\n",
       "    <tr>\n",
       "      <th>1270553</th>\n",
       "      <td>3649.0</td>\n",
       "      <td>2.0</td>\n",
       "    </tr>\n",
       "    <tr>\n",
       "      <th>1287984</th>\n",
       "      <td>3649.0</td>\n",
       "      <td>2.0</td>\n",
       "    </tr>\n",
       "    <tr>\n",
       "      <th>1237601</th>\n",
       "      <td>3648.0</td>\n",
       "      <td>2.0</td>\n",
       "    </tr>\n",
       "    <tr>\n",
       "      <th>1338217</th>\n",
       "      <td>3648.0</td>\n",
       "      <td>2.0</td>\n",
       "    </tr>\n",
       "  </tbody>\n",
       "</table>\n",
       "</div>"
      ],
      "text/plain": [
       "         item_price  item_price_zscore\n",
       "1353839      3650.0                2.0\n",
       "1361055      3650.0                2.0\n",
       "7942         3649.0                2.0\n",
       "420095       3649.0                2.0\n",
       "699021       3649.0                2.0\n",
       "920906       3649.0                2.0\n",
       "1270553      3649.0                2.0\n",
       "1287984      3649.0                2.0\n",
       "1237601      3648.0                2.0\n",
       "1338217      3648.0                2.0"
      ]
     },
     "execution_count": 313,
     "metadata": {
      "tags": []
     },
     "output_type": "execute_result"
    }
   ],
   "source": [
    "z = np.abs(stats.zscore(train_df['item_price']))\n",
    "train_df['item_price_zscore'] = z\n",
    "threshold = 2\n",
    "train_df[train_df['item_price_zscore'] < threshold][['item_price','item_price_zscore']].nlargest(5, 'item_price')"
   ]
  },
  {
   "cell_type": "markdown",
   "metadata": {
    "colab_type": "text",
    "id": "I4_ztMP4nC6z"
   },
   "source": [
    "## Adding Features"
   ]
  },
  {
   "cell_type": "markdown",
   "metadata": {
    "colab_type": "text",
    "id": "CrV37pQhDoWb"
   },
   "source": [
    "### Adding moving mean and standard deviation of `item_cnt_month` for different lagged periods."
   ]
  },
  {
   "cell_type": "code",
   "execution_count": 0,
   "metadata": {
    "colab": {},
    "colab_type": "code",
    "id": "C30i5L1o7pnS"
   },
   "outputs": [],
   "source": [
    "def add_moving_mean_std(grouped_df, feat2grp, feat2grp_names, stats_periods, keep_lags=True):\n",
    "  '''\n",
    "  grouped_df: The dataframe.\n",
    "  feat2grp: a list of features to group and to statictics on.\n",
    "  feat2grp_names: a list of features' names to call the new created features with. list items must be string\n",
    "  keep_lags: True to keep lagged features, False to remove those.\n",
    "  stats_periods: a list of periods to do statistics on. for example [3] is for computing mean and std for 3 lags back.\n",
    "  '''\n",
    "  lags_range = [1,2,3,4,5,6,7,8,9,10,11,12]\n",
    "  f_name = str()\n",
    "  f_name_lst = []\n",
    "  group = grouped_df.groupby(by = feat2grp).agg({'item_cnt_month':'sum'})\n",
    "\n",
    "  for lag in tqdm(lags_range):\n",
    "    for i in range(len(feat2grp_names)):\n",
    "      f_name += feat2grp_names[i]+'_'\n",
    "    f_name += 'lag'+str(lag)\n",
    "    f_name_lst.append(f_name) # For dropping later if keep_lags is False\n",
    "\n",
    "    tmp_group = group.copy().reset_index()\n",
    "    tmp_group.loc[:, 'date_block_num'] += lag\n",
    "    tmp_group.rename(columns={'item_cnt_month': f_name}, inplace=True)\n",
    "    grouped_df = grouped_df.merge(tmp_group[feat2grp + [f_name]], how='left', on=feat2grp)\n",
    "    grouped_df[f_name] = grouped_df[f_name].fillna(0)\n",
    "\n",
    "    f_name = str() # reset f_name.\n",
    "\n",
    "  for p in stats_periods:\n",
    "    tmp_f_name_lst = f_name_lst[:p]\n",
    "    grouped_df[tmp_f_name_lst[-1] + '_mean'] = grouped_df[tmp_f_name_lst].mean(axis=1)\n",
    "    grouped_df[tmp_f_name_lst[-1] + '_std'] = grouped_df[tmp_f_name_lst].std(axis=1)\n",
    "  \n",
    "  if not keep_lags:\n",
    "    grouped_df.drop(f_name_lst, axis=1, inplace=True)\n",
    "\n",
    "  return grouped_df"
   ]
  },
  {
   "cell_type": "code",
   "execution_count": 164,
   "metadata": {
    "colab": {
     "base_uri": "https://localhost:8080/",
     "height": 118
    },
    "colab_type": "code",
    "executionInfo": {
     "elapsed": 335557,
     "status": "ok",
     "timestamp": 1586966098405,
     "user": {
      "displayName": "רון טרנופולסקי",
      "photoUrl": "",
      "userId": "08150616153879810275"
     },
     "user_tz": -180
    },
    "id": "WuVgbkLQ-7Wt",
    "outputId": "3fff319c-b3e7-4c46-ca19-420fe59aa8f7"
   },
   "outputs": [
    {
     "name": "stderr",
     "output_type": "stream",
     "text": [
      "100%|██████████| 12/12 [01:30<00:00,  7.53s/it]\n",
      "100%|██████████| 12/12 [00:32<00:00,  2.73s/it]\n",
      "100%|██████████| 12/12 [00:29<00:00,  2.50s/it]\n",
      "100%|██████████| 12/12 [00:31<00:00,  2.63s/it]\n",
      "100%|██████████| 12/12 [00:32<00:00,  2.75s/it]\n",
      "100%|██████████| 12/12 [00:36<00:00,  3.01s/it]\n"
     ]
    }
   ],
   "source": [
    "grouped_df = add_moving_mean_std(grouped_df, ['date_block_num', 'item_id', 'shop_id'], ['item', 'shop'], stats_periods=[3,6,12], keep_lags=True)\n",
    "grouped_df = add_moving_mean_std(grouped_df, ['date_block_num', 'item_id'], ['item'], stats_periods=[3,6,12], keep_lags=False)\n",
    "grouped_df = add_moving_mean_std(grouped_df, ['date_block_num', 'shop_id'], ['shop'], stats_periods=[3,6,12], keep_lags=False)\n",
    "grouped_df = add_moving_mean_std(grouped_df, ['date_block_num', 'item_category_id'], ['category'], stats_periods=[3,6,12], keep_lags=False)\n",
    "grouped_df = add_moving_mean_std(grouped_df, ['date_block_num', 'sub_cat'], ['sub_cat'], stats_periods=[3,6,12], keep_lags=False)\n",
    "grouped_df = add_moving_mean_std(grouped_df, ['date_block_num', 'shop_city'], ['city'], stats_periods=[3,6,12], keep_lags=False)"
   ]
  },
  {
   "cell_type": "markdown",
   "metadata": {
    "colab_type": "text",
    "id": "9pZl2Qpw6SDA"
   },
   "source": [
    "### Apply mean on different feature groups and then make lagged features out of it.<br> **Target feature**: `item_cnt_month`"
   ]
  },
  {
   "cell_type": "code",
   "execution_count": 0,
   "metadata": {
    "colab": {},
    "colab_type": "code",
    "id": "eMuVU-Wn6DB3"
   },
   "outputs": [],
   "source": [
    "def add_lagged_mean(grouped_df, feat2grp, feat2grp_names, lags_range, target_feat):\n",
    "\n",
    "  f_name = str()\n",
    "  f_name_lst = []\n",
    "  group = grouped_df.groupby(by = feat2grp).agg({'item_cnt_month':'mean'})\n",
    "\n",
    "  for lag in tqdm(lags_range):\n",
    "    for i in range(len(feat2grp_names)):\n",
    "      f_name += feat2grp_names[i]+'_'\n",
    "    f_name += 'mean_lag_'+str(lag)\n",
    "    f_name_lst.append(f_name) # For dropping later if keep_lags is False\n",
    "\n",
    "    tmp_group = group.copy().reset_index()\n",
    "    tmp_group.loc[:, 'date_block_num'] += lag\n",
    "    tmp_group.rename(columns={'item_cnt_month': f_name}, inplace=True)\n",
    "    grouped_df = grouped_df.merge(tmp_group[feat2grp + [f_name]], how='left', on=feat2grp)\n",
    "    grouped_df[f_name] = grouped_df[f_name].fillna(0).astype(np.float16)\n",
    "\n",
    "    f_name = str() # reset f_name.\n",
    "\n",
    "  return grouped_df"
   ]
  },
  {
   "cell_type": "code",
   "execution_count": 3,
   "metadata": {
    "colab": {
     "base_uri": "https://localhost:8080/",
     "height": 128
    },
    "colab_type": "code",
    "executionInfo": {
     "elapsed": 329161,
     "status": "error",
     "timestamp": 1586966098408,
     "user": {
      "displayName": "רון טרנופולסקי",
      "photoUrl": "",
      "userId": "08150616153879810275"
     },
     "user_tz": -180
    },
    "id": "2NIjjd8b6C4z",
    "outputId": "c1270ef5-0ded-409d-f1bd-f2a9d3a90b46"
   },
   "outputs": [],
   "source": [
    "grouped_df = add_lagged_mean(grouped_df, ['date_block_num'], ['block'], [1], 'item_cnt_month')\n",
    "grouped_df = add_lagged_mean(grouped_df, ['date_block_num','item_id'], ['block', 'item'], [1,2,3,6,12], 'item_cnt_month')\n",
    "grouped_df = add_lagged_mean(grouped_df, ['date_block_num', 'shop_id'], ['block', 'shop'], [1,2,3,6,12], 'item_cnt_month')\n",
    "grouped_df = add_lagged_mean(grouped_df, ['date_block_num', 'item_category_id'], ['block', 'category'], [1], 'item_cnt_month')\n",
    "grouped_df = add_lagged_mean(grouped_df, ['date_block_num', 'shop_city'], ['block', 'city'], [1], 'item_cnt_month')\n",
    "grouped_df = add_lagged_mean(grouped_df, ['date_block_num', 'sub_cat','item_id'], ['block', 'subcat'], [1], 'item_cnt_month')"
   ]
  },
  {
   "cell_type": "markdown",
   "metadata": {
    "colab_type": "text",
    "id": "DmPWt6GRAAbd"
   },
   "source": [
    "### Apply mean on different feature groups and then make lagged features out of it.<br> **Target feature**: `item_price`"
   ]
  },
  {
   "cell_type": "code",
   "execution_count": 157,
   "metadata": {
    "colab": {
     "base_uri": "https://localhost:8080/",
     "height": 84
    },
    "colab_type": "code",
    "executionInfo": {
     "elapsed": 139067,
     "status": "ok",
     "timestamp": 1586964949901,
     "user": {
      "displayName": "רון טרנופולסקי",
      "photoUrl": "",
      "userId": "08150616153879810275"
     },
     "user_tz": -180
    },
    "id": "axE3K3oQCMOG",
    "outputId": "5cfa0055-3dd4-4aac-9b17-6a38d3c367e2"
   },
   "outputs": [
    {
     "name": "stderr",
     "output_type": "stream",
     "text": [
      "100%|██████████| 6/6 [00:39<00:00,  6.54s/it]\n",
      "100%|██████████| 6/6 [00:40<00:00,  6.76s/it]\n",
      "100%|██████████| 6/6 [00:41<00:00,  6.99s/it]\n",
      "100%|██████████| 6/6 [00:05<00:00,  1.14it/s]\n"
     ]
    }
   ],
   "source": [
    "group = train_df.groupby(by = ['item_id']).agg({'item_price':'mean'})\n",
    "group.reset_index(inplace=True)\n",
    "group.rename(columns={'item_price' : 'price_mean_item'}, inplace=True)\n",
    "grouped_df = grouped_df.merge(group, on=['item_id'], how='left')\n",
    "grouped_df['price_mean_item'] = grouped_df['price_mean_item'].astype(np.float16)\n",
    "\n",
    "group = train_df.groupby(by = ['date_block_num', 'item_id']).agg({'item_price':'mean'})\n",
    "group.reset_index(inplace=True)\n",
    "group.rename(columns={'item_price' : 'price_mean_block_item'}, inplace=True)\n",
    "grouped_df = grouped_df.merge(group, on=['date_block_num', 'item_id'], how='left')\n",
    "grouped_df['price_mean_block_item'] = grouped_df['price_mean_block_item'].astype(np.float16)\n",
    "\n",
    "group = train_df.groupby(by = ['date_block_num', 'shop_id', 'item_id']).agg({'item_price':'mean'})\n",
    "group.reset_index(inplace=True)\n",
    "group.rename(columns={'item_price' : 'price_mean_block_shop_item'}, inplace=True)\n",
    "grouped_df = grouped_df.merge(group, on=['date_block_num', 'shop_id', 'item_id'], how='left')\n",
    "grouped_df['price_mean_block_shop_item'] = grouped_df['price_mean_block_shop_item'].astype(np.float16)\n",
    "\n",
    "def add_lagged_mean_price(grouped_df, lags_range, target_feat):\n",
    "\n",
    "  tmp = grouped_df[['date_block_num','shop_id','item_id',target_feat]]\n",
    "  for lag in tqdm(lags_range):\n",
    "    shifted = tmp.copy()\n",
    "    shifted.columns = ['date_block_num','shop_id','item_id', target_feat+'_lag_'+str(lag)]\n",
    "    shifted['date_block_num'] += lag\n",
    "    grouped_df = pd.merge(grouped_df, shifted, on=['date_block_num','shop_id','item_id'], how='left')\n",
    "\n",
    "  return grouped_df\n",
    "\n",
    "grouped_df = add_lagged_mean_price(grouped_df, [1,2,3,4,5,6], 'price_mean_item')\n",
    "grouped_df = add_lagged_mean_price(grouped_df, [1,2,3,4,5,6], 'price_mean_block_item')\n",
    "grouped_df = add_lagged_mean_price(grouped_df, [1,2,3,4,5,6], 'price_mean_block_shop_item')\n",
    "\n",
    "lags_range = [1,2,3,4,5,6]\n",
    "for lag in tqdm(lags_range):\n",
    "  grouped_df['change_block_item_price_lag_' + str(lag)] = (grouped_df['price_mean_block_item_lag_' + str(lag)] - grouped_df['price_mean_item']) / grouped_df['price_mean_item']\n",
    "  grouped_df['change_block_shop_item_price_lag_' + str(lag)] = (grouped_df['price_mean_block_shop_item_lag_' + str(lag)] - grouped_df['price_mean_item']) / grouped_df['price_mean_item']"
   ]
  },
  {
   "cell_type": "code",
   "execution_count": 0,
   "metadata": {
    "colab": {},
    "colab_type": "code",
    "id": "1KJ8UbxiSwFs"
   },
   "outputs": [],
   "source": [
    "def select_trend(row):\n",
    "  for lag in lags_range:\n",
    "    if row['change_block_shop_item_price_lag_'+str(lag)]:\n",
    "      return row['change_block_shop_item_price_lag_'+str(lag)]\n",
    "  return 0\n",
    "\n",
    "grouped_df['change_price_lag_block_shop_item'] = grouped_df.apply(select_trend, axis=1)\n",
    "grouped_df['change_price_lag_block_shop_item'] = grouped_df['change_price_lag_block_shop_item'].astype(np.float16)\n",
    "grouped_df['change_price_lag_block_shop_item'].fillna(0, inplace=True)\n",
    "\n",
    "feat2drop = []\n",
    "for lag in lags_range:\n",
    "    feat2drop += ['price_mean_block_shop_item_lag_'+str(lag)]\n",
    "    feat2drop += ['change_block_shop_item_price_lag_'+str(lag)]\n",
    "grouped_df.drop(feat2drop, axis=1, inplace=True)\n",
    "\n",
    "def select_trend(row):\n",
    "  for lag in lags_range:\n",
    "    if row['change_block_item_price_lag_'+str(lag)]:\n",
    "      return row['change_block_item_price_lag_'+str(lag)]\n",
    "  return 0\n",
    "\n",
    "grouped_df['change_price_lag_block_item'] = grouped_df.apply(select_trend, axis=1)\n",
    "grouped_df['change_price_lag_block_item'] = grouped_df['change_price_lag_block_item'].astype(np.float16)\n",
    "grouped_df['change_price_lag_block_item'].fillna(0, inplace=True)\n",
    "\n",
    "feat2drop = ['price_mean_item', 'price_mean_block_item', 'price_mean_block_shop_item', 'item_price']\n",
    "for lag in lags_range:\n",
    "    feat2drop += ['price_mean_block_item_lag_'+str(lag)]\n",
    "    feat2drop += ['change_block_item_price_lag_'+str(lag)]\n",
    "    feat2drop += ['price_mean_item_lag_'+str(lag)]\n",
    "grouped_df.drop(feat2drop, axis=1, inplace=True)"
   ]
  },
  {
   "cell_type": "markdown",
   "metadata": {
    "colab_type": "text",
    "id": "RDag5TRta-iO"
   },
   "source": [
    "### Shops' revenue moving mean (trend)"
   ]
  },
  {
   "cell_type": "code",
   "execution_count": 162,
   "metadata": {
    "colab": {
     "base_uri": "https://localhost:8080/",
     "height": 34
    },
    "colab_type": "code",
    "executionInfo": {
     "elapsed": 11877,
     "status": "ok",
     "timestamp": 1586965750553,
     "user": {
      "displayName": "רון טרנופולסקי",
      "photoUrl": "",
      "userId": "08150616153879810275"
     },
     "user_tz": -180
    },
    "id": "A9wS2QTObFMC",
    "outputId": "d8786dc8-8163-41b6-8002-b37da7961c89"
   },
   "outputs": [
    {
     "name": "stderr",
     "output_type": "stream",
     "text": [
      "100%|██████████| 1/1 [00:06<00:00,  6.87s/it]\n"
     ]
    }
   ],
   "source": [
    "train_df['revenue'] = train_df['item_price'] * train_df['item_cnt_month']\n",
    "\n",
    "group = train_df.groupby(['date_block_num','shop_id']).agg({'revenue': ['sum']})\n",
    "group.columns = ['block_shop_revenue']\n",
    "group.reset_index(inplace=True)\n",
    "\n",
    "grouped_df = pd.merge(grouped_df, group, on=['date_block_num','shop_id'], how='left')\n",
    "grouped_df['block_shop_revenue'] = grouped_df['block_shop_revenue'].astype(np.float32)\n",
    "\n",
    "group = group.groupby(['shop_id']).agg({'block_shop_revenue': ['mean']})\n",
    "group.columns = ['shop_mean_revenue']\n",
    "group.reset_index(inplace=True)\n",
    "\n",
    "grouped_df = pd.merge(grouped_df, group, on=['shop_id'], how='left')\n",
    "grouped_df['shop_mean_revenue'] = grouped_df['shop_mean_revenue'].astype(np.float32)\n",
    "\n",
    "grouped_df['change_revenue'] = (grouped_df['block_shop_revenue'] - grouped_df['shop_mean_revenue']) / grouped_df['shop_mean_revenue']\n",
    "grouped_df['change_revenue'] = grouped_df['change_revenue'].astype(np.float16)\n",
    "\n",
    "def add_lagged_change_revenue(grouped_df, lags_range, target_feat):\n",
    "  tmp = grouped_df[['date_block_num','shop_id','item_id',target_feat]]\n",
    "  for lag in tqdm(lags_range):\n",
    "    shifted = tmp.copy()\n",
    "    shifted.columns = ['date_block_num','shop_id','item_id', target_feat+'_lag_'+str(lag)]\n",
    "    shifted['date_block_num'] += lag\n",
    "    grouped_df = pd.merge(grouped_df, shifted, on=['date_block_num','shop_id','item_id'], how='left')\n",
    "  return grouped_df\n",
    "grouped_df = add_lagged_change_revenue(grouped_df, [1], 'change_revenue')\n",
    "\n",
    "grouped_df.drop(['block_shop_revenue','shop_mean_revenue','change_revenue'], axis=1, inplace=True)"
   ]
  },
  {
   "cell_type": "markdown",
   "metadata": {
    "colab_type": "text",
    "id": "Le-zWFo0YNKC"
   },
   "source": [
    "### Number of month from last sale of item and shop\n"
   ]
  },
  {
   "cell_type": "code",
   "execution_count": 0,
   "metadata": {
    "colab": {},
    "colab_type": "code",
    "id": "PE6iDBhwJtOJ"
   },
   "outputs": [],
   "source": [
    "def add_item_shop_months_from_last_sale(grouped_df):\n",
    "  grouped_df.set_index(['item_id','shop_id', 'date_block_num'], inplace=True)\n",
    "  grouped_df.sort_index(inplace=True)\n",
    "  grouped_df.reset_index(inplace=True)\n",
    "  grouped_df['prev_date_block_num'] = grouped_df.groupby(['item_id','shop_id'])['date_block_num'].shift(1)\n",
    "  # grouped_df['item_price2'] = grouped_df.groupby(['item_id'], sort=False)['item_price'].apply(lambda x: x.ffill())\n",
    "  grouped_df['months_from_last_sale'] = grouped_df['date_block_num'] - grouped_df['prev_date_block_num']\n",
    "  grouped_df.drop('prev_date_block_num', axis=1, inplace=True)\n",
    "  grouped_df.fillna(0, inplace=True)\n",
    "  return grouped_df\n",
    "\n",
    "grouped_df = add_item_shop_months_from_last_sale(grouped_df)\n",
    "\n",
    "# grouped_df[['item_id', 'shop_id','date_block_num','months_from_last_sale']].isna().sum()"
   ]
  },
  {
   "cell_type": "markdown",
   "metadata": {
    "colab_type": "text",
    "id": "rh6m51WIYDet"
   },
   "source": [
    "### Number of month from last sale of item\n",
    "\n"
   ]
  },
  {
   "cell_type": "code",
   "execution_count": 0,
   "metadata": {
    "colab": {},
    "colab_type": "code",
    "id": "1cwFIoj0-FQj"
   },
   "outputs": [],
   "source": [
    "def add_item_months_from_last_sale(grouped_df):\n",
    "  tmp_grouped_df = grouped_df[['item_id', 'date_block_num', 'item_cnt_month']].copy()\n",
    "  tmp_grouped_df = tmp_grouped_df.groupby(by=['item_id','date_block_num']).agg({'item_cnt_month':'mean'})\n",
    "  tmp_grouped_df.sort_index(inplace=True)\n",
    "  tmp_grouped_df.reset_index(inplace=True)\n",
    "  tmp_grouped_df['prev_date_block_num'] = tmp_grouped_df.groupby(['item_id'])['date_block_num'].shift(1)\n",
    "  tmp_grouped_df['months_from_last_item_sale'] = tmp_grouped_df['date_block_num'] - tmp_grouped_df['prev_date_block_num']\n",
    "  tmp_grouped_df.fillna(0, inplace=True)\n",
    "  grouped_df = grouped_df.merge(tmp_grouped_df[['item_id','date_block_num','months_from_last_item_sale']],\n",
    "                                               on=['item_id','date_block_num'], how='left')\n",
    "  return grouped_df\n",
    "\n",
    "grouped_df = add_item_months_from_last_sale(grouped_df)\n",
    "\n",
    "# grouped_df[['item_id', 'shop_id','date_block_num','months_from_last_sale']].isna().sum()"
   ]
  },
  {
   "cell_type": "markdown",
   "metadata": {
    "colab_type": "text",
    "id": "R6ZpHhgQOLFB"
   },
   "source": [
    "### Additional Features"
   ]
  },
  {
   "cell_type": "code",
   "execution_count": 0,
   "metadata": {
    "colab": {},
    "colab_type": "code",
    "id": "NgHz7frcORgY"
   },
   "outputs": [],
   "source": [
    "def days_in_month_feature(grouped_df):\n",
    "  days = np.array([[0, 31],[1, 28], [2, 31], [3, 30], [4, 31], [5, 30], [6, 31], [7, 31], [8, 30], [9, 31], [10, 30], [11, 31]])\n",
    "  days_df = pd.DataFrame(days, columns=['month','days'])\n",
    "  grouped_df = grouped_df.merge(days_df[['month','days']], on='month', how='left')\n",
    "  grouped_df['days'] /= 31\n",
    "  grouped_df['days'] = grouped_df['days'].astype(np.float16)\n",
    "  return grouped_df\n",
    "\n",
    "grouped_df = days_in_month_feature(grouped_df)"
   ]
  },
  {
   "cell_type": "markdown",
   "metadata": {
    "colab_type": "text",
    "id": "k-r1ewnCs4eu"
   },
   "source": [
    "### ** Add moving average of all combinations **"
   ]
  },
  {
   "cell_type": "code",
   "execution_count": 0,
   "metadata": {
    "colab": {},
    "colab_type": "code",
    "id": "dNK_788uJn-F"
   },
   "outputs": [],
   "source": [
    "def num_weekends(grouped_df):\n",
    "  ym = np.array([[2013, 1, 0], [2013, 2, 0], [2013, 3, 0],[2013, 4, 0],[2013, 5, 0],[2013, 6, 0],[2013, 7, 0],[2013, 8, 0],[2013, 9, 0],[2013, 10, 0],[2013, 11, 0],[2013, 12, 0],\n",
    "               [2014, 1, 0], [2014, 2, 0], [2014, 3, 0],[2014, 4, 0],[2014, 5, 0],[2014, 6, 0],[2014, 7, 0],[2014, 8, 0],[2014, 9, 0],[2014, 10, 0],[2014, 11, 0],[2014, 12, 0],\n",
    "               [2015, 1, 0], [2015, 2, 0], [2015, 3, 0],[2015, 4, 0],[2015, 5, 0],[2015, 6, 0],[2015, 7, 0],[2015, 8, 0],[2015, 9, 0],[2015, 10, 0],[2015, 11, 0],[2015, 12, 0]])\n",
    "\n",
    "  weekend_df = pd.DataFrame(ym, columns=['year', 'month', 'num_weekends'])\n",
    "  for y in range(2013, 2016):\n",
    "    for m in range(1, 13):\n",
    "      weekend_df.loc[(weekend_df['year']==y) & (weekend_df['month']==m),'num_weekends'] = len([1 for i in calendar.monthcalendar(y, m) if i[6] != 0])\n",
    "  weekend_df['year'] = (weekend_df['year'] - 2013).astype(np.int8)\n",
    "  weekend_df['month'] = (weekend_df['month'] - 1).astype(np.int16)\n",
    "  grouped_df = grouped_df.merge(weekend_df, how='left', on=['year', 'month'])\n",
    "  return grouped_df\n",
    "  \n",
    "grouped_df = num_weekends(grouped_df)"
   ]
  },
  {
   "cell_type": "code",
   "execution_count": 0,
   "metadata": {
    "colab": {},
    "colab_type": "code",
    "id": "9S_BY2WOmCZ8"
   },
   "outputs": [],
   "source": [
    "# downcasting all float64 type features - save processing and training time.\n",
    "for f in list(grouped_df.columns):\n",
    "  if f in ['shop_id', 'date_block_num', 'item_category_id', 'year', 'month','shop_city','sub_cat', 'months_from_last_sale', 'months_from_last_item_sale']:\n",
    "    grouped_df[f] = grouped_df[f].astype(np.int8)\n",
    "  elif f in ['item_id']:\n",
    "    grouped_df[f] = grouped_df[f].astype(np.int16)\n",
    "  elif f in ['ID']:\n",
    "    grouped_df[f] = grouped_df[f].astype(np.int32)\n",
    "  elif f in ['days']:\n",
    "    grouped_df[f] = grouped_df[f].astype(np.float16)\n",
    "  else:\n",
    "    grouped_df[f] = grouped_df[f].astype(np.float32)"
   ]
  },
  {
   "cell_type": "code",
   "execution_count": 191,
   "metadata": {
    "colab": {
     "base_uri": "https://localhost:8080/",
     "height": 353
    },
    "colab_type": "code",
    "executionInfo": {
     "elapsed": 1649,
     "status": "ok",
     "timestamp": 1586966769143,
     "user": {
      "displayName": "רון טרנופולסקי",
      "photoUrl": "",
      "userId": "08150616153879810275"
     },
     "user_tz": -180
    },
    "id": "NNRK-klGh_fl",
    "outputId": "1af48fdc-70ae-4a26-cd48-b782fab82f77"
   },
   "outputs": [
    {
     "data": {
      "text/plain": [
       "Index(['item_id', 'shop_id', 'date_block_num', 'item_cnt_month', 'ID',\n",
       "       'shop_city', 'item_category_id', 'sub_cat', 'year', 'month',\n",
       "       'change_price_lag_block_shop_item', 'change_price_lag_block_item',\n",
       "       'change_revenue_lag_1', 'item_shop_lag1', 'item_shop_lag2',\n",
       "       'item_shop_lag3', 'item_shop_lag4', 'item_shop_lag5', 'item_shop_lag6',\n",
       "       'item_shop_lag7', 'item_shop_lag8', 'item_shop_lag9', 'item_shop_lag10',\n",
       "       'item_shop_lag11', 'item_shop_lag12', 'item_shop_lag3_mean',\n",
       "       'item_shop_lag3_std', 'item_shop_lag6_mean', 'item_shop_lag6_std',\n",
       "       'item_shop_lag12_mean', 'item_shop_lag12_std', 'item_lag3_mean',\n",
       "       'item_lag3_std', 'item_lag6_mean', 'item_lag6_std', 'item_lag12_mean',\n",
       "       'item_lag12_std', 'shop_lag3_mean', 'shop_lag3_std', 'shop_lag6_mean',\n",
       "       'shop_lag6_std', 'shop_lag12_mean', 'shop_lag12_std',\n",
       "       'category_lag3_mean', 'category_lag3_std', 'category_lag6_mean',\n",
       "       'category_lag6_std', 'category_lag12_mean', 'category_lag12_std',\n",
       "       'sub_cat_lag3_mean', 'sub_cat_lag3_std', 'sub_cat_lag6_mean',\n",
       "       'sub_cat_lag6_std', 'sub_cat_lag12_mean', 'sub_cat_lag12_std',\n",
       "       'city_lag3_mean', 'city_lag3_std', 'city_lag6_mean', 'city_lag6_std',\n",
       "       'city_lag12_mean', 'city_lag12_std', 'months_from_last_sale',\n",
       "       'months_from_last_item_sale', 'days'],\n",
       "      dtype='object')"
      ]
     },
     "execution_count": 191,
     "metadata": {
      "tags": []
     },
     "output_type": "execute_result"
    }
   ],
   "source": [
    "grouped_df.columns"
   ]
  },
  {
   "cell_type": "markdown",
   "metadata": {
    "colab_type": "text",
    "id": "WP9wwYdfnC8I"
   },
   "source": [
    "### Train Test Split"
   ]
  },
  {
   "cell_type": "code",
   "execution_count": 0,
   "metadata": {
    "colab": {},
    "colab_type": "code",
    "id": "2smfpBvJnC8J"
   },
   "outputs": [],
   "source": [
    "def ts_train_test_split(df_data, test_block, months_train, verbose=0, scale_f=False):\n",
    "    df = df_data.copy()\n",
    "    \n",
    "    first_train_month = test_block - months_train\n",
    "#     first_train_month=0\n",
    "    test = df[df['date_block_num'] == test_block]\n",
    "    # print(test.shape)\n",
    "    train = df[(df['date_block_num'] >= first_train_month) & (df['date_block_num'] < test_block)]\n",
    "    train.drop('date_block_num', axis=1, inplace=True)\n",
    "    test.drop('date_block_num', axis=1, inplace=True)\n",
    "    \n",
    "    X_train = train.drop(['ID', 'item_cnt_month'], axis=1)\n",
    "    y_train = train['item_cnt_month']\n",
    "    X_test = test.drop(['ID', 'item_cnt_month'], axis=1)\n",
    "    y_test = test['item_cnt_month']\n",
    "    \n",
    "    scaler = StandardScaler()\n",
    "    if scale_f==True:\n",
    "        X_train = scaler.fit_transform(X_train)\n",
    "        X_test = scaler.transform(X_test)\n",
    "    \n",
    "    if verbose==1:\n",
    "        print('X_train shape: {0} \\nX_test shape: {1}'.format(X_train.shape,X_test.shape))\n",
    "\n",
    "    return X_train, X_test, y_train, y_test, train, test "
   ]
  },
  {
   "cell_type": "markdown",
   "metadata": {
    "colab_type": "text",
    "id": "mFdTWgACnC8L"
   },
   "source": [
    "### Feature selection\n",
    "\n",
    "We could see from the cross-validation that a combination of 18 look-back periods, 1200 estimators (in tree based models) and max depth of 7, is the best performing yet.<br>\n",
    "So we'll try some feature selection techniques and see what's best."
   ]
  },
  {
   "cell_type": "markdown",
   "metadata": {
    "colab_type": "text",
    "id": "wbOT_YpuX0OB"
   },
   "source": [
    "### Pearson Correlation - between features and target *did not use it*"
   ]
  },
  {
   "cell_type": "code",
   "execution_count": 0,
   "metadata": {
    "colab": {},
    "colab_type": "code",
    "id": "XkTQ22GVX8ER"
   },
   "outputs": [],
   "source": [
    "def only_correlated_features(grouped_df, threshold=0.3):\n",
    "  '''\n",
    "  grouped_df - dataframe\n",
    "  threshold - a constant that means: leave all features with higher correlation to the target than the threshold.\n",
    "\n",
    "  returns the same dataframe but with only highly correlated features.\n",
    "  categorical features left untouched - correlation is calculated only for continuous features\n",
    "  '''\n",
    "  \n",
    "  corr = grouped_df.corr()\n",
    "  corr2target = corr['item_cnt_day'].sort_values(ascending=False)\n",
    "  corr2target = corr2target[corr2target > threshold]\n",
    "  cat_features = ['item_id','shop_id','date_block_num','ID','item_category_id','year', 'month','shop_city','sub_cat']\n",
    "  grouped_df_new = grouped_df.loc[:, (grouped_df.columns.isin(corr2target.index)) | (grouped_df.columns.isin(cat_features))]\n",
    "  \n",
    "  return grouped_df_new"
   ]
  },
  {
   "cell_type": "code",
   "execution_count": 199,
   "metadata": {
    "colab": {
     "base_uri": "https://localhost:8080/",
     "height": 34
    },
    "colab_type": "code",
    "executionInfo": {
     "elapsed": 442930,
     "status": "ok",
     "timestamp": 1586968855762,
     "user": {
      "displayName": "רון טרנופולסקי",
      "photoUrl": "",
      "userId": "08150616153879810275"
     },
     "user_tz": -180
    },
    "id": "SaATsZjF4QXf",
    "outputId": "b525d1b5-b79b-4ad6-d672-8d3eb90d592d"
   },
   "outputs": [
    {
     "name": "stdout",
     "output_type": "stream",
     "text": [
      "MSE:  0.6850549107572523\n"
     ]
    }
   ],
   "source": [
    "cat_features = ['item_id','shop_id','date_block_num','ID','item_category_id','year', 'month','shop_city','sub_cat']\n",
    "# corr_grouped_df = only_correlated_features(grouped_df, threshold=0.3)\n",
    "X_train, X_val, y_train, y_val, train, test = ts_train_test_split(df_data=grouped_df, test_block=34, months_train=22, verbose=0, scale_f=True)\n",
    "lgbm_model = LGBMRegressor(n_estimators=1000, max_depth=7, n_jobs=-1, random_state=42)\n",
    "cat_features_indices = np.where(train.dtypes != np.float32)[0].tolist()\n",
    "lgbm_model.fit(X_train, y_train, categorical_feature=cat_features_indices)\n",
    "y_pred = lgbm_model.predict(X_val)\n",
    "mse = mean_squared_error(y_val, y_pred)\n",
    "print('MSE: ', str(mse))"
   ]
  },
  {
   "cell_type": "code",
   "execution_count": 0,
   "metadata": {
    "colab": {},
    "colab_type": "code",
    "id": "DeUYc2NWdmkl"
   },
   "outputs": [],
   "source": [
    "def get_k_important_features(grouped_df, importances, k, im_type):\n",
    "  '''\n",
    "  input: data frame with features and data frame with `feature_importances` of the features from the first one.\n",
    "         im_typwe - string: type of importance\n",
    "  return: the data frame with only k most important features based on summing up importances from xgoost, catboost, lgbm regressors.\n",
    "  '''\n",
    "  must_features = ['item_id','shop_id','date_block_num','ID','item_category_id','year', 'month','shop_city','sub_cat', 'item_cnt_day']\n",
    "  important_cols = importances.nlargest(k, im_type).index.tolist()\n",
    "  important_cols.extend(must_features)\n",
    "  return grouped_df[important_cols]"
   ]
  },
  {
   "cell_type": "markdown",
   "metadata": {
    "colab_type": "text",
    "id": "FrMEbDL8nC8K"
   },
   "source": [
    "## Cross Validation - my experiments"
   ]
  },
  {
   "cell_type": "code",
   "execution_count": 4,
   "metadata": {
    "colab": {
     "base_uri": "https://localhost:8080/",
     "height": 1000
    },
    "colab_type": "code",
    "executionInfo": {
     "elapsed": 4707799,
     "status": "ok",
     "timestamp": 1586296826604,
     "user": {
      "displayName": "רון טרנופולסקי",
      "photoUrl": "",
      "userId": "08150616153879810275"
     },
     "user_tz": -180
    },
    "id": "TCSu7JnznC8O",
    "outputId": "c564cb6d-b495-40a7-bf9c-cab0acf15e46"
   },
   "outputs": [],
   "source": [
    "# A dictionary to store all models' hyper params and accuracy.\n",
    "# history = {}\n",
    "# n_estimators_range = np.linspace(400, 1200, 5, dtype=int)\n",
    "# max_depths = np.linspace(5, 12, 4, dtype=int)\n",
    "\n",
    "# for i in range(30, 34):\n",
    "#   best_mse_val = 100\n",
    "#   best_train_range = None\n",
    "#   best_n_estimators = None\n",
    "#   best_max_depth = None\n",
    "#   # LGBM\n",
    "\n",
    "#   for tr in [12, 15, 18]:\n",
    "#     X_train, X_val, y_train, y_val, train, test = ts_train_test_split(df_data=grouped_df, test_block=i, months_train=tr, verbose=0, scale_f=True)\n",
    "\n",
    "#     for n_est in n_estimators_range:\n",
    "#       for max_d in max_depths:\n",
    "#         print('\\nLGBM fitting...')\n",
    "#         lgbm_model = LGBMRegressor(n_estimators=n_est, max_depth=max_d, n_jobs=-1)\n",
    "#         lgbm_model.fit(X_train, y_train)\n",
    "#         y_pred_train = lgbm_model.predict(X_train)\n",
    "#         y_pred_val = lgbm_model.predict(X_val)\n",
    "#         mae_train, mse_train = mean_absolute_error(y_train, y_pred_train), mean_squared_error(y_train, y_pred_train)\n",
    "#         mae_val, mse_val = mean_absolute_error(y_val, y_pred_val), mean_squared_error(y_val, y_pred_val)\n",
    "#         print('val block: ', i, 'train range: ', tr, ' n_estimators: ', n_est, ' max depth: ', max_d)\n",
    "#         print('MSE train: ', str(mse_train))\n",
    "#         print('MSE val: ', str(mse_val))\n",
    "#         if mse_val < best_mse_val:\n",
    "#           best_train_range, best_n_estimators, best_max_depth = tr, n_est, max_d\n",
    "#           best_mse_val = mse_val\n",
    "\n",
    "#         history['val_block_'+str(i)] = {'train_range': tr, 'n_estimators': n_est, 'max_depth': max_d, 'mae_train': mae_train, 'mse_train': mse_train,\n",
    "#                                         'mae_val': mae_val, 'mse_val': mse_val}\n",
    "\n",
    "#   print('best_train_range: ', best_train_range, 'best_n_estimators: ', best_n_estimators, ' best_max_depth: ', best_max_depth)\n",
    "#   # CatBoost\n",
    "\n",
    "#   # cat_grouped_df = grouped_df.copy()\n",
    "  # categorical_features = ['item_id', 'shop_id', 'item_category_id', 'month', 'shop_city', 'sub_cat']\n",
    "  # for f in categorical_features:\n",
    "  #     cat_grouped_df[f] = cat_grouped_df[f].astype(str)\n",
    "\n",
    "  # X_train, X_val, y_train, y_val, train, test = ts_train_test_split(df_data=cat_grouped_df, test_block=i, verbose=0, scale_f=False)\n",
    "  # print(test.shape)\n",
    "  # cat_features_indices = np.where(X_train.dtypes != np.float32)[0]\n",
    "  # print('\\nCatBoost fitting...')\n",
    "  # catb_model = CatBoostRegressor(logging_level='Silent', cat_features=cat_features_indices)\n",
    "  # catb_model.fit(X_train, y_train)\n",
    "  # y_pred = catb_model.predict(X_val)\n",
    "  # mae, mse = mean_absolute_error(y_val, y_pred), mean_squared_error(y_val, y_pred)\n",
    "  # print('MAE: ', str(mae), 'MSE: ', str(mse),'\\n')\n",
    "\n",
    "  # XGBoost\n",
    "  \n",
    "  # X_train, X_val, y_train, y_val, test, train = ts_train_test_split(df_data=grouped_df, test_block=i, verbose=0, scale_f=True)\n",
    "  \n",
    "  # print('\\nXGB fitting...')\n",
    "  # xgb_model = XGBRegressor(max_depth=11, silent=True, n_jobs=-1, min_child_weight=0.5, \n",
    "  #                          subsample = 1, eta = 0.3, num_round = 1000, seed = 1, nthread = 16, n_estimators=500, random_state=42)\n",
    "  # xgb_model.fit(X_train, y_train)\n",
    "  # y_pred = xgb_model.predict(X_val)\n",
    "  # mae, mse = mean_absolute_error(y_val, y_pred), mean_squared_error(y_val, y_pred)\n",
    "  # print('MAE: ', str(mae), 'MSE: ', str(mse))\n",
    "  \n",
    "  # X_train, X_val, y_train, y_val, train, test = ts_train_test_split(df_data=grouped_df, test_block=i, verbose=0, scale_f=True)\n",
    "\n",
    "#     print('\\nLGBM fitting...')\n",
    "#     lgbm_model = LGBMRegressor(n_estimators=400, max_depth=10, n_jobs=-1)\n",
    "#     lgbm_model.fit(X_train, y_train)\n",
    "#     y_pred = lgbm_model.predict(X_val)\n",
    "#     y_val = y_scaler.inverse_transform(y_val)\n",
    "#     print(y_val.shape)\n",
    "#     y_pred = y_scaler.inverse_transform(y_pred.reshape(-1, 1))\n",
    "#     print(y_pred.shape)\n",
    "#     mae, mse = mean_absolute_error(y_val, y_pred), mean_squared_error(y_val, y_pred)\n",
    "#     print('MAE: ', str(mae), 'MSE: ', str(mse),'\\n')\n",
    "    \n",
    "#     input_layer = Input(shape=(179,))\n",
    "#     hidden_1 = Dense(units=1000, activation='relu')(input_layer)\n",
    "#     hidden_2 = Dense(units=500, activation='relu')(hidden_1)\n",
    "#     hidden_3 = Dense(units=200, activation='relu')(hidden_2)\n",
    "#     hidden_4 = Dense(units=100, activation='relu')(hidden_3)\n",
    "#     hidden_5 = Dense(units=50, activation='relu')(hidden_4)\n",
    "#     hidden_6 = Dense(units=15, activation='relu')(hidden_5)\n",
    "#     output_layer = Dense(units=1, activation='linear')(hidden_6)\n",
    "\n",
    "#     model = Model(inputs=[input_layer], outputs=[output_layer])\n",
    "#     model.compile(loss = 'mse', optimizer='adam')\n",
    "#     model.summary()\n",
    "#     model.fit(X_train, y_train, batch_size = 64, epochs = 3, verbose=1)\n",
    "    \n",
    "#     y_pred = model.predict(X_val)\n",
    "#     mae, mse = mean_absolute_error(y_val, y_pred.reshape(-1)), mean_squared_error(y_val, y_pred.reshape(-1))\n",
    "#     print('MAE: ', str(mae), 'MSE: ', str(mse),'\\n')\n",
    "    \n",
    "#     print(\"TRAIN:\", train_index, \"TEST:\", test_index)\n",
    "#     print(\"TRAIN len:\", len(train_index), \"TEST len:\", len(test_index))\n",
    "\n",
    "#     print(np.max(y_train))\n",
    "#     print(np.min(y_train))\n",
    "#     print(np.max(y_val))\n",
    "#     print(np.min(y_val))\n",
    "#     print(type(X_train))\n",
    "# #     [['item_price1', 'lag1', 'lag2', 'lag3', 'lag4',\n",
    "# #        'lag5', 'lag6', 'lag7', 'lag8', 'lag9', 'lag10', 'lag11', 'lag12',\n",
    "# #        'item_cnt_mean2', 'item_cnt_mean3', 'item_cnt_mean6', 'item_cnt_mean8',\n",
    "# #        'item_cnt_mean12', 'item_price_mean3', 'item_price_mean6',\n",
    "# #        'item_price_mean9', 'item_price_mean12', 'item_price1_mean',\n",
    "# #        'item_price1_median', 'item_cnt_day_sum', 'item_cnt_day_mean',\n",
    "# #        'cat_cnt_mean3', 'cat_cnt_mean6', 'cat_cnt_mean12']].describe()\n",
    "#     print(X_val.shape)\n",
    "#     print(y_train.shape)\n",
    "#     print(y_val.shape)"
   ]
  },
  {
   "cell_type": "markdown",
   "metadata": {},
   "source": [
    "## LGBM - model"
   ]
  },
  {
   "cell_type": "code",
   "execution_count": 0,
   "metadata": {
    "colab": {},
    "colab_type": "code",
    "id": "jE-a9JG_nC8P"
   },
   "outputs": [],
   "source": [
    "def appeared_past_year(X_train, submission, test_block_num):\n",
    "    \n",
    "    # get only the data from the past 12 months.\n",
    "#     x_test_12 = x_test[(x_test['date_block_num']>=test_year-13) & (x_test['date_block_num']<=test_year-1)]\n",
    "#     if submission[submission['item_id'].isin(diff)]\n",
    "    # get the unique values of item_id's from \n",
    "    past_year_items = list(X_train['item_id'].unique())\n",
    "    \n",
    "    # put zero if item havn't been sold for 12 months.\n",
    "    submission.loc[(~submission['item_id'].isin(past_year_items))&(~submission['item_id'].isin(diff)), 'item_cnt_month'] = 0\n",
    "    \n",
    "    return submission"
   ]
  },
  {
   "cell_type": "code",
   "execution_count": 200,
   "metadata": {
    "colab": {
     "base_uri": "https://localhost:8080/",
     "height": 34
    },
    "colab_type": "code",
    "executionInfo": {
     "elapsed": 1210,
     "status": "ok",
     "timestamp": 1586969557674,
     "user": {
      "displayName": "רון טרנופולסקי",
      "photoUrl": "",
      "userId": "08150616153879810275"
     },
     "user_tz": -180
    },
    "id": "c3KmQ5C67qOW",
    "outputId": "1df978d9-d590-4017-da90-c50963b99ad6"
   },
   "outputs": [
    {
     "data": {
      "text/plain": [
       "(214200,)"
      ]
     },
     "execution_count": 200,
     "metadata": {
      "tags": []
     },
     "output_type": "execute_result"
    }
   ],
   "source": [
    "y_pred.shape"
   ]
  },
  {
   "cell_type": "code",
   "execution_count": 0,
   "metadata": {
    "colab": {},
    "colab_type": "code",
    "id": "-fzsPNf1nC8Q"
   },
   "outputs": [],
   "source": [
    "def make_submission_file(test, y_pred, X_train, nn=False):\n",
    "    # if nn == True:\n",
    "    #     pred_df = pd.DataFrame(data=y_pred.reshape(-1), columns=['item_cnt_month'])\n",
    "    pred_df = pd.DataFrame(data=y_pred, columns=['item_cnt_month'])\n",
    "    test.reset_index(inplace=True)\n",
    "    submission = pd.concat([test[['ID','item_id']], pred_df], axis=1,names=['ID','item_id','item_cnt_month'])\n",
    "    \n",
    "#     submission = appeared_past_year(X_train=X_train, submission=submission, test_block_num=34)\n",
    "    \n",
    "    submission.drop('item_id', axis=1, inplace=True)\n",
    "    submission.reset_index(inplace=True)\n",
    "    submission.sort_values(by='ID', inplace=True)\n",
    "    print('Creatin submission file...')\n",
    "    submission.to_csv('submission_lgb.csv', index=False)\n",
    "    return submission"
   ]
  },
  {
   "cell_type": "code",
   "execution_count": 202,
   "metadata": {
    "colab": {
     "base_uri": "https://localhost:8080/",
     "height": 34
    },
    "colab_type": "code",
    "executionInfo": {
     "elapsed": 2104,
     "status": "ok",
     "timestamp": 1586969563312,
     "user": {
      "displayName": "רון טרנופולסקי",
      "photoUrl": "",
      "userId": "08150616153879810275"
     },
     "user_tz": -180
    },
    "id": "jbVg9TZenC8T",
    "outputId": "c174d1ab-67b7-44ad-8e7e-e9ae61568992"
   },
   "outputs": [
    {
     "name": "stdout",
     "output_type": "stream",
     "text": [
      "Creatin submission file...\n"
     ]
    }
   ],
   "source": [
    "pred_df = make_submission_file(test, y_pred, X_train)"
   ]
  }
 ],
 "metadata": {
  "colab": {
   "collapsed_sections": [],
   "machine_shape": "hm",
   "name": "Predict Sales Challenge-MLnew.ipynb",
   "provenance": [],
   "toc_visible": true
  },
  "kernelspec": {
   "display_name": "Python 3",
   "language": "python",
   "name": "python3"
  },
  "language_info": {
   "codemirror_mode": {
    "name": "ipython",
    "version": 3
   },
   "file_extension": ".py",
   "mimetype": "text/x-python",
   "name": "python",
   "nbconvert_exporter": "python",
   "pygments_lexer": "ipython3",
   "version": "3.5.3"
  }
 },
 "nbformat": 4,
 "nbformat_minor": 1
}
